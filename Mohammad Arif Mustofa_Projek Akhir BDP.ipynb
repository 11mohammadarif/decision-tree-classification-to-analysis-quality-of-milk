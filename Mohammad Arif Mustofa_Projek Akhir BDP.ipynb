{
 "cells": [
  {
   "cell_type": "markdown",
   "id": "440e7f16",
   "metadata": {},
   "source": [
    "<h1 style=\"padding:10px;background-color:#0f4c5c;margin:0;color:white;font-family:newtimeroman;font-size:300%;text-align:center;border-radius: 15px 50px;overflow:hidden;font-weight:500\">MILK Quality Control</h1>"
   ]
  },
  {
   "cell_type": "code",
   "execution_count": 12,
   "id": "81c1d353",
   "metadata": {},
   "outputs": [],
   "source": [
    "#import library yang diperlukan\n",
    "import pandas as pd\n",
    "import numpy as np\n",
    "import matplotlib.pyplot as plt\n",
    "import seaborn as sns\n",
    "from sklearn.tree import DecisionTreeClassifier"
   ]
  },
  {
   "cell_type": "markdown",
   "id": "ef2a9db5",
   "metadata": {},
   "source": [
    "<h1 style=\"padding:10px;background-color:orange;margin:0;color:black;font-family:newtimeroman;font-size:200%;text-align:center;border-radius: 15px 50px;overflow:hidden;font-weight:500\">About Dataset</h1>"
   ]
  },
  {
   "cell_type": "markdown",
   "id": "fd8af337",
   "metadata": {},
   "source": [
    "This dataset is manually collected from observations. It helps us to build machine learning models to predict the quality of milk. \n",
    "\n",
    "This dataset consists of 7 independent variables ie pH, Temperature, Taste, Odor, Fat, Turbidity, and Color. Generally, the Grade or Quality of the milk depends on these parameters.\n",
    "\n",
    "These parameters play a vital role in the predictive analysis of the milk. Usage The target variable is nothing but the Grade of the milk. It can be Target Low (Bad) Medium (Moderate) High (Good) If Taste, Odor, Fat, and Turbidity are satisfied with optimal conditions then they will assign 1 otherwise 0. \n",
    "\n",
    "Temperature and ph are given their actual values in the dataset. We have to perform data preprocessing, and data augmentation techniques to build statistical and predictive models to predict the quality of the milk. \n",
    "\n",
    "Inspiration To leverage the benefits of machine learning in the dairy industry."
   ]
  },
  {
   "cell_type": "code",
   "execution_count": 13,
   "id": "81af9b66",
   "metadata": {},
   "outputs": [
    {
     "data": {
      "text/html": [
       "<div>\n",
       "<style scoped>\n",
       "    .dataframe tbody tr th:only-of-type {\n",
       "        vertical-align: middle;\n",
       "    }\n",
       "\n",
       "    .dataframe tbody tr th {\n",
       "        vertical-align: top;\n",
       "    }\n",
       "\n",
       "    .dataframe thead th {\n",
       "        text-align: right;\n",
       "    }\n",
       "</style>\n",
       "<table border=\"1\" class=\"dataframe\">\n",
       "  <thead>\n",
       "    <tr style=\"text-align: right;\">\n",
       "      <th></th>\n",
       "      <th>pH</th>\n",
       "      <th>Temprature</th>\n",
       "      <th>Taste</th>\n",
       "      <th>Odor</th>\n",
       "      <th>Fat</th>\n",
       "      <th>Turbidity</th>\n",
       "      <th>Colour</th>\n",
       "      <th>Grade</th>\n",
       "    </tr>\n",
       "  </thead>\n",
       "  <tbody>\n",
       "    <tr>\n",
       "      <th>0</th>\n",
       "      <td>6.6</td>\n",
       "      <td>35</td>\n",
       "      <td>1</td>\n",
       "      <td>0</td>\n",
       "      <td>1</td>\n",
       "      <td>0</td>\n",
       "      <td>254</td>\n",
       "      <td>high</td>\n",
       "    </tr>\n",
       "    <tr>\n",
       "      <th>1</th>\n",
       "      <td>6.6</td>\n",
       "      <td>36</td>\n",
       "      <td>0</td>\n",
       "      <td>1</td>\n",
       "      <td>0</td>\n",
       "      <td>1</td>\n",
       "      <td>253</td>\n",
       "      <td>high</td>\n",
       "    </tr>\n",
       "    <tr>\n",
       "      <th>2</th>\n",
       "      <td>8.5</td>\n",
       "      <td>70</td>\n",
       "      <td>1</td>\n",
       "      <td>1</td>\n",
       "      <td>1</td>\n",
       "      <td>1</td>\n",
       "      <td>246</td>\n",
       "      <td>low</td>\n",
       "    </tr>\n",
       "    <tr>\n",
       "      <th>3</th>\n",
       "      <td>9.5</td>\n",
       "      <td>34</td>\n",
       "      <td>1</td>\n",
       "      <td>1</td>\n",
       "      <td>0</td>\n",
       "      <td>1</td>\n",
       "      <td>255</td>\n",
       "      <td>low</td>\n",
       "    </tr>\n",
       "    <tr>\n",
       "      <th>4</th>\n",
       "      <td>6.6</td>\n",
       "      <td>37</td>\n",
       "      <td>0</td>\n",
       "      <td>0</td>\n",
       "      <td>0</td>\n",
       "      <td>0</td>\n",
       "      <td>255</td>\n",
       "      <td>medium</td>\n",
       "    </tr>\n",
       "  </tbody>\n",
       "</table>\n",
       "</div>"
      ],
      "text/plain": [
       "    pH  Temprature  Taste  Odor  Fat   Turbidity  Colour   Grade\n",
       "0  6.6          35      1     0     1          0     254    high\n",
       "1  6.6          36      0     1     0          1     253    high\n",
       "2  8.5          70      1     1     1          1     246     low\n",
       "3  9.5          34      1     1     0          1     255     low\n",
       "4  6.6          37      0     0     0          0     255  medium"
      ]
     },
     "execution_count": 13,
     "metadata": {},
     "output_type": "execute_result"
    }
   ],
   "source": [
    "data = pd.read_csv('milknew.csv')\n",
    "data.head()"
   ]
  },
  {
   "cell_type": "code",
   "execution_count": 14,
   "id": "a7a97dc2",
   "metadata": {},
   "outputs": [
    {
     "name": "stdout",
     "output_type": "stream",
     "text": [
      "\n",
      " Data set ini memiliki jumlah baris dan kolom (baris, kolom) yaitu: (1059, 8)\n"
     ]
    }
   ],
   "source": [
    "print(\"\\n Data set ini memiliki jumlah baris dan kolom (baris, kolom) yaitu:\", data.shape)"
   ]
  },
  {
   "cell_type": "markdown",
   "id": "a66a5457",
   "metadata": {},
   "source": [
    "<h1 style=\"padding:10px;background-color:orange;margin:0;color:black;font-family:newtimeroman;font-size:200%;text-align:center;border-radius: 15px 50px;overflow:hidden;font-weight:500\">Exploratory Data Analysis</h1>"
   ]
  },
  {
   "cell_type": "code",
   "execution_count": 15,
   "id": "e506a134",
   "metadata": {},
   "outputs": [
    {
     "name": "stdout",
     "output_type": "stream",
     "text": [
      "Summary of Milk Dataset :\n",
      "\n"
     ]
    },
    {
     "data": {
      "text/html": [
       "<div>\n",
       "<style scoped>\n",
       "    .dataframe tbody tr th:only-of-type {\n",
       "        vertical-align: middle;\n",
       "    }\n",
       "\n",
       "    .dataframe tbody tr th {\n",
       "        vertical-align: top;\n",
       "    }\n",
       "\n",
       "    .dataframe thead th {\n",
       "        text-align: right;\n",
       "    }\n",
       "</style>\n",
       "<table border=\"1\" class=\"dataframe\">\n",
       "  <thead>\n",
       "    <tr style=\"text-align: right;\">\n",
       "      <th></th>\n",
       "      <th>count</th>\n",
       "      <th>mean</th>\n",
       "      <th>std</th>\n",
       "      <th>min</th>\n",
       "      <th>25%</th>\n",
       "      <th>50%</th>\n",
       "      <th>75%</th>\n",
       "      <th>max</th>\n",
       "    </tr>\n",
       "  </thead>\n",
       "  <tbody>\n",
       "    <tr>\n",
       "      <th>pH</th>\n",
       "      <td>1059.0</td>\n",
       "      <td>6.630123</td>\n",
       "      <td>1.399679</td>\n",
       "      <td>3.0</td>\n",
       "      <td>6.5</td>\n",
       "      <td>6.7</td>\n",
       "      <td>6.8</td>\n",
       "      <td>9.5</td>\n",
       "    </tr>\n",
       "    <tr>\n",
       "      <th>Temprature</th>\n",
       "      <td>1059.0</td>\n",
       "      <td>44.226629</td>\n",
       "      <td>10.098364</td>\n",
       "      <td>34.0</td>\n",
       "      <td>38.0</td>\n",
       "      <td>41.0</td>\n",
       "      <td>45.0</td>\n",
       "      <td>90.0</td>\n",
       "    </tr>\n",
       "    <tr>\n",
       "      <th>Taste</th>\n",
       "      <td>1059.0</td>\n",
       "      <td>0.546742</td>\n",
       "      <td>0.498046</td>\n",
       "      <td>0.0</td>\n",
       "      <td>0.0</td>\n",
       "      <td>1.0</td>\n",
       "      <td>1.0</td>\n",
       "      <td>1.0</td>\n",
       "    </tr>\n",
       "    <tr>\n",
       "      <th>Odor</th>\n",
       "      <td>1059.0</td>\n",
       "      <td>0.432483</td>\n",
       "      <td>0.495655</td>\n",
       "      <td>0.0</td>\n",
       "      <td>0.0</td>\n",
       "      <td>0.0</td>\n",
       "      <td>1.0</td>\n",
       "      <td>1.0</td>\n",
       "    </tr>\n",
       "    <tr>\n",
       "      <th>Fat</th>\n",
       "      <td>1059.0</td>\n",
       "      <td>0.671388</td>\n",
       "      <td>0.469930</td>\n",
       "      <td>0.0</td>\n",
       "      <td>0.0</td>\n",
       "      <td>1.0</td>\n",
       "      <td>1.0</td>\n",
       "      <td>1.0</td>\n",
       "    </tr>\n",
       "    <tr>\n",
       "      <th>Turbidity</th>\n",
       "      <td>1059.0</td>\n",
       "      <td>0.491029</td>\n",
       "      <td>0.500156</td>\n",
       "      <td>0.0</td>\n",
       "      <td>0.0</td>\n",
       "      <td>0.0</td>\n",
       "      <td>1.0</td>\n",
       "      <td>1.0</td>\n",
       "    </tr>\n",
       "    <tr>\n",
       "      <th>Colour</th>\n",
       "      <td>1059.0</td>\n",
       "      <td>251.840415</td>\n",
       "      <td>4.307424</td>\n",
       "      <td>240.0</td>\n",
       "      <td>250.0</td>\n",
       "      <td>255.0</td>\n",
       "      <td>255.0</td>\n",
       "      <td>255.0</td>\n",
       "    </tr>\n",
       "  </tbody>\n",
       "</table>\n",
       "</div>"
      ],
      "text/plain": [
       "             count        mean        std    min    25%    50%    75%    max\n",
       "pH          1059.0    6.630123   1.399679    3.0    6.5    6.7    6.8    9.5\n",
       "Temprature  1059.0   44.226629  10.098364   34.0   38.0   41.0   45.0   90.0\n",
       "Taste       1059.0    0.546742   0.498046    0.0    0.0    1.0    1.0    1.0\n",
       "Odor        1059.0    0.432483   0.495655    0.0    0.0    0.0    1.0    1.0\n",
       "Fat         1059.0    0.671388   0.469930    0.0    0.0    1.0    1.0    1.0\n",
       "Turbidity   1059.0    0.491029   0.500156    0.0    0.0    0.0    1.0    1.0\n",
       "Colour      1059.0  251.840415   4.307424  240.0  250.0  255.0  255.0  255.0"
      ]
     },
     "execution_count": 15,
     "metadata": {},
     "output_type": "execute_result"
    }
   ],
   "source": [
    "print(f\"Summary of Milk Dataset :\\n\")\n",
    "data.describe().T"
   ]
  },
  {
   "cell_type": "code",
   "execution_count": 16,
   "id": "50fabd70",
   "metadata": {},
   "outputs": [
    {
     "name": "stdout",
     "output_type": "stream",
     "text": [
      "Informations of Milk Dataset :\n",
      "\n",
      "<class 'pandas.core.frame.DataFrame'>\n",
      "RangeIndex: 1059 entries, 0 to 1058\n",
      "Data columns (total 8 columns):\n",
      " #   Column      Non-Null Count  Dtype  \n",
      "---  ------      --------------  -----  \n",
      " 0   pH          1059 non-null   float64\n",
      " 1   Temprature  1059 non-null   int64  \n",
      " 2   Taste       1059 non-null   int64  \n",
      " 3   Odor        1059 non-null   int64  \n",
      " 4   Fat         1059 non-null   int64  \n",
      " 5   Turbidity   1059 non-null   int64  \n",
      " 6   Colour      1059 non-null   int64  \n",
      " 7   Grade       1059 non-null   object \n",
      "dtypes: float64(1), int64(6), object(1)\n",
      "memory usage: 66.3+ KB\n",
      "None\n"
     ]
    }
   ],
   "source": [
    "print(f\"Informations of Milk Dataset :\\n\")\n",
    "print(data.info())\n"
   ]
  },
  {
   "cell_type": "code",
   "execution_count": 17,
   "id": "d2246068",
   "metadata": {},
   "outputs": [
    {
     "name": "stdout",
     "output_type": "stream",
     "text": [
      "(1059,)\n",
      "\n",
      " There are 9 Colour enlisted here.\n",
      "\n"
     ]
    },
    {
     "data": {
      "text/plain": [
       "array([254, 253, 246, 255, 250, 247, 245, 240, 248], dtype=int64)"
      ]
     },
     "execution_count": 17,
     "metadata": {},
     "output_type": "execute_result"
    }
   ],
   "source": [
    "print(data[\"Colour\"].shape)\n",
    "print(f'\\n There are {len(data[\"Colour\"].unique())} Colour enlisted here.\\n')\n",
    "data[\"Colour\"].unique()"
   ]
  },
  {
   "cell_type": "code",
   "execution_count": 18,
   "id": "28de9ba0",
   "metadata": {},
   "outputs": [
    {
     "name": "stdout",
     "output_type": "stream",
     "text": [
      "(1059,)\n",
      "\n",
      " There are 3 Grade enlisted here.\n",
      "\n"
     ]
    },
    {
     "data": {
      "text/plain": [
       "array(['high', 'low', 'medium'], dtype=object)"
      ]
     },
     "execution_count": 18,
     "metadata": {},
     "output_type": "execute_result"
    }
   ],
   "source": [
    "print(data[\"Grade\"].shape)\n",
    "print(f'\\n There are {len(data[\"Grade\"].unique())} Grade enlisted here.\\n')\n",
    "data[\"Grade\"].unique()"
   ]
  },
  {
   "cell_type": "code",
   "execution_count": 19,
   "id": "1cb2d51e",
   "metadata": {},
   "outputs": [
    {
     "data": {
      "text/plain": [
       "pH            0\n",
       "Temprature    0\n",
       "Taste         0\n",
       "Odor          0\n",
       "Fat           0\n",
       "Turbidity     0\n",
       "Colour        0\n",
       "Grade         0\n",
       "dtype: int64"
      ]
     },
     "execution_count": 19,
     "metadata": {},
     "output_type": "execute_result"
    }
   ],
   "source": [
    "data.isnull().sum()"
   ]
  },
  {
   "cell_type": "markdown",
   "id": "54a64b9c",
   "metadata": {},
   "source": [
    "No data is Null/NaN "
   ]
  },
  {
   "cell_type": "markdown",
   "id": "884dab1c",
   "metadata": {},
   "source": [
    "<h1 style=\"padding:10px;background-color:orange;margin:0;color:black;font-family:newtimeroman;font-size:200%;text-align:center;border-radius: 15px 50px;overflow:hidden;font-weight:500\">Data Visualization</h1>"
   ]
  },
  {
   "cell_type": "code",
   "execution_count": 20,
   "id": "f95b5d68",
   "metadata": {},
   "outputs": [
    {
     "name": "stderr",
     "output_type": "stream",
     "text": [
      "C:\\ProgramData\\Anaconda3\\lib\\site-packages\\seaborn\\_decorators.py:36: FutureWarning: Pass the following variable as a keyword arg: x. From version 0.12, the only valid positional argument will be `data`, and passing other arguments without an explicit keyword will result in an error or misinterpretation.\n",
      "  warnings.warn(\n"
     ]
    },
    {
     "data": {
      "image/png": "[encoded data removed]",
      "text/plain": [
       "<Figure size 432x288 with 1 Axes>"
      ]
     },
     "metadata": {
      "needs_background": "light"
     },
     "output_type": "display_data"
    }
   ],
   "source": [
    "#Distribusi Grade\n",
    "sns.countplot(data['Grade']).set_title('Distribution of Grade')\n",
    "plt.show()"
   ]
  },
  {
   "cell_type": "code",
   "execution_count": 21,
   "id": "65b5644a",
   "metadata": {},
   "outputs": [
    {
     "data": {
      "text/plain": [
       "<AxesSubplot:xlabel='Colour', ylabel='Grade'>"
      ]
     },
     "execution_count": 21,
     "metadata": {},
     "output_type": "execute_result"
    },
    {
     "data": {
      "image/png": "[encoded data removed]",
      "text/plain": [
       "<Figure size 432x288 with 1 Axes>"
      ]
     },
     "metadata": {
      "needs_background": "light"
     },
     "output_type": "display_data"
    }
   ],
   "source": [
    "#clasifikasi dengan bar plot\n",
    "sns.barplot(x=\"Colour\", y=\"Grade\", data=data, ci=None)"
   ]
  },
  {
   "cell_type": "code",
   "execution_count": 22,
   "id": "69f6b9eb",
   "metadata": {},
   "outputs": [
    {
     "data": {
      "text/plain": [
       "<AxesSubplot:xlabel='pH', ylabel='Grade'>"
      ]
     },
     "execution_count": 22,
     "metadata": {},
     "output_type": "execute_result"
    },
    {
     "data": {
      "image/png": "[encoded data removed]",
      "text/plain": [
       "<Figure size 432x288 with 1 Axes>"
      ]
     },
     "metadata": {
      "needs_background": "light"
     },
     "output_type": "display_data"
    }
   ],
   "source": [
    "#clasifikasi dengan bar plot\n",
    "sns.barplot(x=\"pH\", y=\"Grade\", data=data, ci=None)"
   ]
  },
  {
   "cell_type": "markdown",
   "id": "2ae74b86",
   "metadata": {},
   "source": [
    "<h1 style=\"padding:10px;background-color:orange;margin:0;color:black;font-family:newtimeroman;font-size:200%;text-align:center;border-radius: 15px 50px;overflow:hidden;font-weight:500\">Data Preprocessing</h1>"
   ]
  },
  {
   "cell_type": "code",
   "execution_count": 23,
   "id": "b2881079",
   "metadata": {},
   "outputs": [
    {
     "name": "stdout",
     "output_type": "stream",
     "text": [
      "{'high': 0, 'low': 1, 'medium': 2}\n"
     ]
    }
   ],
   "source": [
    "from sklearn import preprocessing\n",
    "\n",
    "le = preprocessing.LabelEncoder()\n",
    "le.fit(data[\"Grade\"])\n",
    "data[\"Grade\"]=le.transform(data[\"Grade\"])\n",
    "Grade_labels = dict(zip(le.classes_, le.transform(le.classes_)))\n",
    "print(Grade_labels)"
   ]
  },
  {
   "cell_type": "code",
   "execution_count": 24,
   "id": "34a942dc",
   "metadata": {},
   "outputs": [
    {
     "data": {
      "image/png": "[encoded data removed]",
      "text/plain": [
       "<Figure size 576x576 with 2 Axes>"
      ]
     },
     "metadata": {
      "needs_background": "light"
     },
     "output_type": "display_data"
    }
   ],
   "source": [
    "#melihat ketergantungan suatu fitur terhadap kelas\n",
    "#dengan menggunakan heatmap\n",
    "plt.figure(figsize=(8,8))\n",
    "cor = data.corr(method=\"pearson\")\n",
    "sns.heatmap(cor, annot=True)\n",
    "plt.show()"
   ]
  },
  {
   "cell_type": "code",
   "execution_count": 25,
   "id": "f738c8e1",
   "metadata": {},
   "outputs": [
    {
     "data": {
      "text/html": [
       "<div>\n",
       "<style scoped>\n",
       "    .dataframe tbody tr th:only-of-type {\n",
       "        vertical-align: middle;\n",
       "    }\n",
       "\n",
       "    .dataframe tbody tr th {\n",
       "        vertical-align: top;\n",
       "    }\n",
       "\n",
       "    .dataframe thead th {\n",
       "        text-align: right;\n",
       "    }\n",
       "</style>\n",
       "<table border=\"1\" class=\"dataframe\">\n",
       "  <thead>\n",
       "    <tr style=\"text-align: right;\">\n",
       "      <th></th>\n",
       "      <th>pH</th>\n",
       "      <th>Temprature</th>\n",
       "      <th>Taste</th>\n",
       "      <th>Odor</th>\n",
       "      <th>Fat</th>\n",
       "      <th>Turbidity</th>\n",
       "      <th>Colour</th>\n",
       "    </tr>\n",
       "  </thead>\n",
       "  <tbody>\n",
       "    <tr>\n",
       "      <th>0</th>\n",
       "      <td>6.6</td>\n",
       "      <td>35</td>\n",
       "      <td>1</td>\n",
       "      <td>0</td>\n",
       "      <td>1</td>\n",
       "      <td>0</td>\n",
       "      <td>254</td>\n",
       "    </tr>\n",
       "    <tr>\n",
       "      <th>1</th>\n",
       "      <td>6.6</td>\n",
       "      <td>36</td>\n",
       "      <td>0</td>\n",
       "      <td>1</td>\n",
       "      <td>0</td>\n",
       "      <td>1</td>\n",
       "      <td>253</td>\n",
       "    </tr>\n",
       "    <tr>\n",
       "      <th>2</th>\n",
       "      <td>8.5</td>\n",
       "      <td>70</td>\n",
       "      <td>1</td>\n",
       "      <td>1</td>\n",
       "      <td>1</td>\n",
       "      <td>1</td>\n",
       "      <td>246</td>\n",
       "    </tr>\n",
       "    <tr>\n",
       "      <th>3</th>\n",
       "      <td>9.5</td>\n",
       "      <td>34</td>\n",
       "      <td>1</td>\n",
       "      <td>1</td>\n",
       "      <td>0</td>\n",
       "      <td>1</td>\n",
       "      <td>255</td>\n",
       "    </tr>\n",
       "    <tr>\n",
       "      <th>4</th>\n",
       "      <td>6.6</td>\n",
       "      <td>37</td>\n",
       "      <td>0</td>\n",
       "      <td>0</td>\n",
       "      <td>0</td>\n",
       "      <td>0</td>\n",
       "      <td>255</td>\n",
       "    </tr>\n",
       "  </tbody>\n",
       "</table>\n",
       "</div>"
      ],
      "text/plain": [
       "    pH  Temprature  Taste  Odor  Fat   Turbidity  Colour\n",
       "0  6.6          35      1     0     1          0     254\n",
       "1  6.6          36      0     1     0          1     253\n",
       "2  8.5          70      1     1     1          1     246\n",
       "3  9.5          34      1     1     0          1     255\n",
       "4  6.6          37      0     0     0          0     255"
      ]
     },
     "execution_count": 25,
     "metadata": {},
     "output_type": "execute_result"
    }
   ],
   "source": [
    "X = data.iloc[0:,:7]\n",
    "X[0:5]"
   ]
  },
  {
   "cell_type": "code",
   "execution_count": 26,
   "id": "3c4f946d",
   "metadata": {},
   "outputs": [
    {
     "data": {
      "text/plain": [
       "array([[-0.02153136, -0.91410734,  0.91050291, -0.87296233,  0.69960809,\n",
       "        -0.98221664,  0.5016002 ],\n",
       "       [-0.02153136, -0.81503461, -1.09829413,  1.1455248 , -1.4293717 ,\n",
       "         1.01810533,  0.26933321],\n",
       "       [ 1.33656414,  2.55343832,  0.91050291,  1.1455248 ,  0.69960809,\n",
       "         1.01810533, -1.35653574],\n",
       "       [ 2.05135125, -1.01318008,  0.91050291,  1.1455248 , -1.4293717 ,\n",
       "         1.01810533,  0.73386719],\n",
       "       [-0.02153136, -0.71596188, -1.09829413, -0.87296233, -1.4293717 ,\n",
       "        -0.98221664,  0.73386719]])"
      ]
     },
     "execution_count": 26,
     "metadata": {},
     "output_type": "execute_result"
    }
   ],
   "source": [
    "X = preprocessing.StandardScaler().fit(X).transform(X)\n",
    "X[0:5]"
   ]
  },
  {
   "cell_type": "markdown",
   "id": "cfd702ca",
   "metadata": {},
   "source": [
    "<h1 style=\"padding:10px;background-color:orange;margin:0;color:black;font-family:newtimeroman;font-size:200%;text-align:center;border-radius: 15px 50px;overflow:hidden;font-weight:500\">Data Modeling</h1>"
   ]
  },
  {
   "cell_type": "code",
   "execution_count": 27,
   "id": "fcfb64ea",
   "metadata": {},
   "outputs": [
    {
     "data": {
      "text/plain": [
       "0    0\n",
       "1    0\n",
       "2    1\n",
       "3    1\n",
       "4    2\n",
       "Name: Grade, dtype: int32"
      ]
     },
     "execution_count": 27,
     "metadata": {},
     "output_type": "execute_result"
    }
   ],
   "source": [
    "y = data[\"Grade\"]\n",
    "y[0:5]"
   ]
  },
  {
   "cell_type": "code",
   "execution_count": 28,
   "id": "0523126e",
   "metadata": {},
   "outputs": [
    {
     "name": "stdout",
     "output_type": "stream",
     "text": [
      "(741, 7) (318, 7)\n",
      "(847, 7) (212, 7)\n"
     ]
    }
   ],
   "source": [
    "from sklearn.model_selection import train_test_split\n",
    "\n",
    "X_train, X_test, y_train, y_test = train_test_split(X,y, train_size = 0.7)\n",
    "X2_train, X2_test, y2_train, y2_test = train_test_split(X,y, train_size = 0.8)\n",
    "print(X_train.shape, X_test.shape)\n",
    "print(X2_train.shape, X2_test.shape)"
   ]
  },
  {
   "cell_type": "code",
   "execution_count": 29,
   "id": "91d3fb6e",
   "metadata": {},
   "outputs": [
    {
     "data": {
      "text/plain": [
       "DecisionTreeClassifier(criterion='entropy', max_depth=4, random_state=2)"
      ]
     },
     "execution_count": 29,
     "metadata": {},
     "output_type": "execute_result"
    }
   ],
   "source": [
    "from sklearn.tree import DecisionTreeClassifier\n",
    "\n",
    "gradeTree = DecisionTreeClassifier(criterion=\"entropy\", max_depth = 4, random_state=2)\n",
    "gradeTree # it shows the default parameters"
   ]
  },
  {
   "cell_type": "code",
   "execution_count": 30,
   "id": "6b818c14",
   "metadata": {},
   "outputs": [
    {
     "data": {
      "text/plain": [
       "DecisionTreeClassifier(criterion='entropy', max_depth=4, random_state=2)"
      ]
     },
     "execution_count": 30,
     "metadata": {},
     "output_type": "execute_result"
    }
   ],
   "source": [
    "grade2Tree = DecisionTreeClassifier(criterion=\"entropy\", max_depth = 4, random_state=2)\n",
    "grade2Tree # it shows the default parameters"
   ]
  },
  {
   "cell_type": "code",
   "execution_count": 31,
   "id": "c5c2f39b",
   "metadata": {},
   "outputs": [
    {
     "data": {
      "text/plain": [
       "DecisionTreeClassifier(criterion='entropy', max_depth=4, random_state=2)"
      ]
     },
     "execution_count": 31,
     "metadata": {},
     "output_type": "execute_result"
    }
   ],
   "source": [
    "gradeTree.fit(X_train, y_train)\n",
    "gradeTree.fit(X2_train, y2_train)"
   ]
  },
  {
   "cell_type": "code",
   "execution_count": 32,
   "id": "7fb82624",
   "metadata": {},
   "outputs": [],
   "source": [
    "y_pred = gradeTree.predict(X_test)\n",
    "y2_pred = gradeTree.predict(X2_test)"
   ]
  },
  {
   "cell_type": "code",
   "execution_count": 33,
   "id": "d5a4392d",
   "metadata": {},
   "outputs": [
    {
     "name": "stdout",
     "output_type": "stream",
     "text": [
      "[1 2 1 0 1]\n",
      "823    1\n",
      "861    2\n",
      "316    1\n",
      "228    2\n",
      "430    1\n",
      "Name: Grade, dtype: int32\n"
     ]
    }
   ],
   "source": [
    "print (y_pred [0:5])\n",
    "print (y_test [0:5])"
   ]
  },
  {
   "cell_type": "code",
   "execution_count": 34,
   "id": "5b3a48c8",
   "metadata": {},
   "outputs": [
    {
     "name": "stdout",
     "output_type": "stream",
     "text": [
      "[2 2 0 0 2]\n",
      "249    2\n",
      "612    2\n",
      "911    2\n",
      "875    0\n",
      "514    2\n",
      "Name: Grade, dtype: int32\n"
     ]
    }
   ],
   "source": [
    "print (y2_pred [0:5])\n",
    "print (y2_test [0:5])"
   ]
  },
  {
   "cell_type": "code",
   "execution_count": 35,
   "id": "1a148df0",
   "metadata": {},
   "outputs": [
    {
     "name": "stdout",
     "output_type": "stream",
     "text": [
      "              precision    recall  f1-score   support\n",
      "\n",
      "           0       0.68      1.00      0.81        80\n",
      "           1       1.00      1.00      1.00       135\n",
      "           2       1.00      0.64      0.78       103\n",
      "\n",
      "    accuracy                           0.88       318\n",
      "   macro avg       0.89      0.88      0.86       318\n",
      "weighted avg       0.92      0.88      0.88       318\n",
      "\n",
      "[[ 80   0   0]\n",
      " [  0 135   0]\n",
      " [ 37   0  66]]\n"
     ]
    }
   ],
   "source": [
    "from sklearn.metrics import classification_report, confusion_matrix\n",
    "import itertools\n",
    "\n",
    "print(classification_report(y_test,y_pred))\n",
    "print(confusion_matrix(y_test,y_pred))"
   ]
  },
  {
   "cell_type": "code",
   "execution_count": 36,
   "id": "c403e617",
   "metadata": {},
   "outputs": [
    {
     "name": "stdout",
     "output_type": "stream",
     "text": [
      "              precision    recall  f1-score   support\n",
      "\n",
      "           0       0.58      1.00      0.73        48\n",
      "           1       1.00      0.99      0.99        77\n",
      "           2       1.00      0.61      0.76        87\n",
      "\n",
      "    accuracy                           0.83       212\n",
      "   macro avg       0.86      0.87      0.83       212\n",
      "weighted avg       0.90      0.83      0.84       212\n",
      "\n",
      "[[48  0  0]\n",
      " [ 1 76  0]\n",
      " [34  0 53]]\n"
     ]
    }
   ],
   "source": [
    "print(classification_report(y2_test,y2_pred))\n",
    "print(confusion_matrix(y2_test,y2_pred))"
   ]
  },
  {
   "cell_type": "code",
   "execution_count": 37,
   "id": "be6ff17b",
   "metadata": {},
   "outputs": [
    {
     "name": "stdout",
     "output_type": "stream",
     "text": [
      "Confusion matrix untuk train_size = 0.7 adalah\n",
      "[[ 80   0   0]\n",
      " [  0 135   0]\n",
      " [ 37   0  66]]\n",
      "\n",
      "\n",
      "Confusion matrix untuk train_size = 0.8 adalah\n",
      "[[48  0  0]\n",
      " [ 1 76  0]\n",
      " [34  0 53]]\n"
     ]
    }
   ],
   "source": [
    "# Compute confusion matrix\n",
    "\n",
    "def plot_confusion_matrix(cm, classes,\n",
    "                          normalize=False,\n",
    "                          title='Confusion matrix',\n",
    "                          cmap=plt.cm.Blues):\n",
    "    \"\"\"\n",
    "    This function prints and plots the confusion matrix.\n",
    "    Normalization can be applied by setting `normalize=True`.\n",
    "    \"\"\"\n",
    "    if normalize:\n",
    "        cm = cm.astype('float') / cm.sum(axis=1)[:, np.newaxis]\n",
    "        print(\"Normalized confusion matrix\")\n",
    "    else:\n",
    "        print('Confusion matrix, without normalization')\n",
    "\n",
    "    print(cm)\n",
    "\n",
    "    plt.imshow(cm, interpolation='nearest', cmap=cmap)\n",
    "    plt.title(title)\n",
    "    plt.colorbar()\n",
    "    tick_marks = np.arange(len(classes))\n",
    "    plt.xticks(tick_marks, classes, rotation=45)\n",
    "    plt.yticks(tick_marks, classes)\n",
    "\n",
    "    fmt = '.2f' if normalize else 'd'\n",
    "    thresh = cm.max() / 2.\n",
    "    for i, j in itertools.product(range(cm.shape[0]), range(cm.shape[1])):\n",
    "        plt.text(j, i, format(cm[i, j], fmt),\n",
    "                 horizontalalignment=\"center\",\n",
    "                 color=\"white\" if cm[i, j] > thresh else \"black\")\n",
    "\n",
    "    plt.tight_layout()\n",
    "    plt.ylabel('True label')\n",
    "    plt.xlabel('Predicted label')\n",
    "print('Confusion matrix untuk train_size = 0.7 adalah')\n",
    "print(confusion_matrix(y_test, y_pred, labels=[0,1,2]))\n",
    "print(\"\\n\")\n",
    "print('Confusion matrix untuk train_size = 0.8 adalah')\n",
    "print(confusion_matrix(y2_test, y2_pred, labels=[0,1,2]))"
   ]
  },
  {
   "cell_type": "code",
   "execution_count": 38,
   "id": "a0587808",
   "metadata": {},
   "outputs": [
    {
     "name": "stdout",
     "output_type": "stream",
     "text": [
      "Confusion matrix, without normalization\n",
      "[[ 80   0   0]\n",
      " [  0 135   0]\n",
      " [ 37   0  66]]\n"
     ]
    },
    {
     "data": {
      "image/png": "[encoded data removed]",
      "text/plain": [
       "<Figure size 432x288 with 2 Axes>"
      ]
     },
     "metadata": {
      "needs_background": "light"
     },
     "output_type": "display_data"
    }
   ],
   "source": [
    "# Compute confusion matrix train_size=0.7\n",
    "cnf_matrix = confusion_matrix(y_test, y_pred, labels=[0,1,2])\n",
    "np.set_printoptions(precision=2)\n",
    "\n",
    "\n",
    "# Plot non-normalized confusion matrix\n",
    "plt.figure()\n",
    "plot_confusion_matrix(cnf_matrix, classes=['high','low', 'medium'],normalize= False,  title='Confusion matrix')"
   ]
  },
  {
   "cell_type": "code",
   "execution_count": 39,
   "id": "916ecd4d",
   "metadata": {},
   "outputs": [
    {
     "name": "stdout",
     "output_type": "stream",
     "text": [
      "Confusion matrix, without normalization\n",
      "[[48  0  0]\n",
      " [ 1 76  0]\n",
      " [34  0 53]]\n"
     ]
    },
    {
     "data": {
      "image/png": "[encoded data removed]",
      "text/plain": [
       "<Figure size 432x288 with 2 Axes>"
      ]
     },
     "metadata": {
      "needs_background": "light"
     },
     "output_type": "display_data"
    }
   ],
   "source": [
    "# Compute confusion matrix train_size=0.8\n",
    "cnf_matrix = confusion_matrix(y2_test, y2_pred, labels=[0,1,2])\n",
    "np.set_printoptions(precision=2)\n",
    "\n",
    "\n",
    "# Plot non-normalized confusion matrix\n",
    "plt.figure()\n",
    "plot_confusion_matrix(cnf_matrix, classes=['high','low', 'medium'],normalize= False,  title='Confusion matrix')"
   ]
  },
  {
   "cell_type": "code",
   "execution_count": 40,
   "id": "b3462563",
   "metadata": {},
   "outputs": [
    {
     "name": "stdout",
     "output_type": "stream",
     "text": [
      "DecisionTrees's Accuracy for train_size=0.7:  0.8836477987421384\n",
      "DecisionTrees's Accuracy for train_size=0.8:  0.8349056603773585\n"
     ]
    }
   ],
   "source": [
    "#memmghitung akurasi dari modelm dengan nilai masing-masing trainsize \n",
    "\n",
    "from sklearn import metrics\n",
    "\n",
    "print(\"DecisionTrees's Accuracy for train_size=0.7: \", metrics.accuracy_score(y_test, y_pred))\n",
    "print(\"DecisionTrees's Accuracy for train_size=0.8: \", metrics.accuracy_score(y2_test, y2_pred))"
   ]
  },
  {
   "cell_type": "code",
   "execution_count": 41,
   "id": "1912a7f6",
   "metadata": {},
   "outputs": [
    {
     "data": {
      "text/plain": [
       "LogisticRegression(C=0.01, solver='liblinear')"
      ]
     },
     "execution_count": 41,
     "metadata": {},
     "output_type": "execute_result"
    }
   ],
   "source": [
    "from sklearn.linear_model import LogisticRegression\n",
    "\n",
    "LR = LogisticRegression(C=0.01, solver='liblinear').fit(X_train,y_train)\n",
    "LR"
   ]
  },
  {
   "cell_type": "code",
   "execution_count": 42,
   "id": "c9399057",
   "metadata": {},
   "outputs": [
    {
     "data": {
      "text/plain": [
       "array([1, 2, 1, 2, 1, 1, 1, 1, 2, 1, 2, 1, 0, 2, 2, 1, 1, 1, 2, 1, 1, 2,\n",
       "       1, 1, 2, 2, 2, 2, 2, 1, 1, 2, 1, 2, 0, 1, 2, 1, 1, 0, 0, 2, 2, 0,\n",
       "       1, 1, 2, 0, 1, 2, 0, 2, 0, 2, 1, 2, 0, 2, 2, 1, 2, 2, 2, 1, 0, 0,\n",
       "       1, 0, 0, 2, 2, 2, 2, 2, 2, 0, 2, 1, 1, 1, 2, 0, 2, 1, 2, 2, 1, 0,\n",
       "       0, 1, 0, 2, 2, 1, 1, 2, 2, 0, 2, 2, 0, 2, 2, 0, 2, 2, 1, 1, 2, 1,\n",
       "       2, 0, 1, 2, 0, 1, 1, 1, 0, 1, 2, 0, 1, 1, 2, 0, 2, 1, 2, 0, 0, 1,\n",
       "       2, 1, 1, 1, 0, 2, 1, 2, 1, 2, 0, 2, 0, 1, 1, 2, 1, 2, 0, 2, 1, 1,\n",
       "       0, 0, 0, 0, 0, 1, 0, 1, 1, 1, 0, 2, 2, 0, 1, 2, 2, 1, 2, 2, 2, 1,\n",
       "       1, 2, 2, 1, 2, 1, 1, 0, 2, 2, 0, 2, 0, 1, 1, 0, 0, 1, 2, 1, 2, 2,\n",
       "       0, 0, 2, 0, 2, 1, 1, 2, 0, 2, 1, 2, 2, 1, 2, 2, 1, 2, 1, 2, 0, 1,\n",
       "       2, 2, 2, 1, 0, 0, 2, 1, 1, 2, 1, 2, 2, 1, 1, 1, 2, 2, 1, 0, 1, 1,\n",
       "       2, 1, 1, 0, 2, 0, 0, 1, 2, 0, 0, 0, 1, 1, 0, 0, 1, 1, 1, 1, 0, 2,\n",
       "       2, 1, 2, 2, 2, 1, 1, 1, 0, 1, 2, 1, 2, 2, 0, 2, 2, 2, 2, 0, 0, 1,\n",
       "       2, 1, 1, 2, 0, 1, 2, 1, 0, 1, 2, 0, 2, 2, 2, 1, 1, 2, 2, 1, 0, 2,\n",
       "       1, 1, 1, 2, 0, 1, 0, 2, 2, 0])"
      ]
     },
     "execution_count": 42,
     "metadata": {},
     "output_type": "execute_result"
    }
   ],
   "source": [
    "y_predLR = LR.predict(X_test)\n",
    "y_predLR"
   ]
  },
  {
   "cell_type": "code",
   "execution_count": 43,
   "id": "85cb4594",
   "metadata": {},
   "outputs": [
    {
     "data": {
      "text/plain": [
       "array([[0.38, 0.53, 0.09],\n",
       "       [0.16, 0.3 , 0.54],\n",
       "       [0.37, 0.52, 0.11],\n",
       "       [0.29, 0.17, 0.54],\n",
       "       [0.41, 0.49, 0.1 ],\n",
       "       [0.22, 0.72, 0.06],\n",
       "       [0.4 , 0.42, 0.18],\n",
       "       [0.22, 0.41, 0.37],\n",
       "       [0.25, 0.2 , 0.55],\n",
       "       [0.38, 0.53, 0.09],\n",
       "       [0.13, 0.38, 0.49],\n",
       "       [0.33, 0.43, 0.24],\n",
       "       [0.39, 0.33, 0.27],\n",
       "       [0.25, 0.2 , 0.55],\n",
       "       [0.25, 0.2 , 0.55],\n",
       "       [0.27, 0.51, 0.22],\n",
       "       [0.06, 0.49, 0.45],\n",
       "       [0.27, 0.51, 0.22],\n",
       "       [0.16, 0.16, 0.68],\n",
       "       [0.4 , 0.42, 0.18],\n",
       "       [0.42, 0.44, 0.14],\n",
       "       [0.32, 0.27, 0.41],\n",
       "       [0.37, 0.52, 0.11],\n",
       "       [0.22, 0.72, 0.06],\n",
       "       [0.32, 0.26, 0.41],\n",
       "       [0.22, 0.28, 0.49],\n",
       "       [0.32, 0.25, 0.42],\n",
       "       [0.32, 0.27, 0.41],\n",
       "       [0.29, 0.17, 0.54],\n",
       "       [0.28, 0.63, 0.1 ],\n",
       "       [0.27, 0.51, 0.22],\n",
       "       [0.12, 0.13, 0.74],\n",
       "       [0.27, 0.51, 0.22],\n",
       "       [0.12, 0.35, 0.53],\n",
       "       [0.43, 0.38, 0.19],\n",
       "       [0.42, 0.44, 0.14],\n",
       "       [0.14, 0.2 , 0.65],\n",
       "       [0.14, 0.47, 0.39],\n",
       "       [0.37, 0.52, 0.11],\n",
       "       [0.43, 0.15, 0.42],\n",
       "       [0.38, 0.26, 0.36],\n",
       "       [0.25, 0.2 , 0.55],\n",
       "       [0.12, 0.13, 0.74],\n",
       "       [0.38, 0.26, 0.36],\n",
       "       [0.33, 0.43, 0.24],\n",
       "       [0.33, 0.43, 0.24],\n",
       "       [0.15, 0.19, 0.66],\n",
       "       [0.46, 0.38, 0.16],\n",
       "       [0.08, 0.55, 0.37],\n",
       "       [0.21, 0.35, 0.44],\n",
       "       [0.39, 0.33, 0.27],\n",
       "       [0.16, 0.27, 0.56],\n",
       "       [0.48, 0.41, 0.12],\n",
       "       [0.12, 0.35, 0.53],\n",
       "       [0.41, 0.49, 0.1 ],\n",
       "       [0.32, 0.26, 0.41],\n",
       "       [0.47, 0.43, 0.1 ],\n",
       "       [0.24, 0.36, 0.4 ],\n",
       "       [0.25, 0.2 , 0.55],\n",
       "       [0.28, 0.63, 0.1 ],\n",
       "       [0.15, 0.19, 0.66],\n",
       "       [0.32, 0.27, 0.41],\n",
       "       [0.16, 0.3 , 0.54],\n",
       "       [0.41, 0.49, 0.1 ],\n",
       "       [0.43, 0.15, 0.42],\n",
       "       [0.48, 0.39, 0.12],\n",
       "       [0.33, 0.43, 0.24],\n",
       "       [0.43, 0.15, 0.42],\n",
       "       [0.43, 0.15, 0.42],\n",
       "       [0.16, 0.16, 0.68],\n",
       "       [0.16, 0.16, 0.68],\n",
       "       [0.12, 0.17, 0.7 ],\n",
       "       [0.15, 0.19, 0.66],\n",
       "       [0.16, 0.27, 0.56],\n",
       "       [0.24, 0.36, 0.4 ],\n",
       "       [0.38, 0.26, 0.36],\n",
       "       [0.32, 0.25, 0.42],\n",
       "       [0.41, 0.49, 0.1 ],\n",
       "       [0.14, 0.84, 0.02],\n",
       "       [0.37, 0.52, 0.11],\n",
       "       [0.16, 0.16, 0.68],\n",
       "       [0.36, 0.33, 0.32],\n",
       "       [0.12, 0.13, 0.74],\n",
       "       [0.42, 0.44, 0.14],\n",
       "       [0.32, 0.26, 0.41],\n",
       "       [0.14, 0.25, 0.61],\n",
       "       [0.29, 0.47, 0.24],\n",
       "       [0.46, 0.38, 0.16],\n",
       "       [0.47, 0.43, 0.1 ],\n",
       "       [0.33, 0.43, 0.24],\n",
       "       [0.36, 0.33, 0.32],\n",
       "       [0.12, 0.17, 0.7 ],\n",
       "       [0.12, 0.35, 0.53],\n",
       "       [0.4 , 0.4 , 0.2 ],\n",
       "       [0.42, 0.44, 0.14],\n",
       "       [0.12, 0.13, 0.76],\n",
       "       [0.15, 0.19, 0.66],\n",
       "       [0.38, 0.26, 0.36],\n",
       "       [0.12, 0.35, 0.53],\n",
       "       [0.24, 0.36, 0.4 ],\n",
       "       [0.43, 0.38, 0.19],\n",
       "       [0.32, 0.25, 0.42],\n",
       "       [0.21, 0.35, 0.44],\n",
       "       [0.43, 0.38, 0.19],\n",
       "       [0.12, 0.13, 0.74],\n",
       "       [0.16, 0.27, 0.56],\n",
       "       [0.38, 0.53, 0.09],\n",
       "       [0.08, 0.55, 0.37],\n",
       "       [0.16, 0.16, 0.68],\n",
       "       [0.33, 0.43, 0.24],\n",
       "       [0.15, 0.2 , 0.66],\n",
       "       [0.48, 0.41, 0.12],\n",
       "       [0.41, 0.49, 0.1 ],\n",
       "       [0.14, 0.2 , 0.65],\n",
       "       [0.48, 0.39, 0.12],\n",
       "       [0.06, 0.49, 0.45],\n",
       "       [0.41, 0.49, 0.1 ],\n",
       "       [0.4 , 0.4 , 0.2 ],\n",
       "       [0.38, 0.26, 0.36],\n",
       "       [0.38, 0.53, 0.09],\n",
       "       [0.15, 0.2 , 0.66],\n",
       "       [0.43, 0.38, 0.19],\n",
       "       [0.28, 0.63, 0.1 ],\n",
       "       [0.4 , 0.4 , 0.2 ],\n",
       "       [0.22, 0.28, 0.49],\n",
       "       [0.39, 0.33, 0.27],\n",
       "       [0.12, 0.41, 0.47],\n",
       "       [0.22, 0.72, 0.06],\n",
       "       [0.29, 0.17, 0.54],\n",
       "       [0.43, 0.15, 0.42],\n",
       "       [0.39, 0.33, 0.27],\n",
       "       [0.28, 0.63, 0.1 ],\n",
       "       [0.26, 0.29, 0.46],\n",
       "       [0.38, 0.53, 0.09],\n",
       "       [0.33, 0.43, 0.24],\n",
       "       [0.22, 0.72, 0.06],\n",
       "       [0.43, 0.38, 0.19],\n",
       "       [0.14, 0.25, 0.61],\n",
       "       [0.42, 0.44, 0.14],\n",
       "       [0.29, 0.3 , 0.41],\n",
       "       [0.4 , 0.42, 0.18],\n",
       "       [0.11, 0.35, 0.54],\n",
       "       [0.48, 0.41, 0.12],\n",
       "       [0.32, 0.27, 0.41],\n",
       "       [0.36, 0.33, 0.32],\n",
       "       [0.38, 0.53, 0.09],\n",
       "       [0.22, 0.41, 0.37],\n",
       "       [0.22, 0.28, 0.49],\n",
       "       [0.41, 0.49, 0.1 ],\n",
       "       [0.16, 0.16, 0.68],\n",
       "       [0.46, 0.38, 0.16],\n",
       "       [0.16, 0.27, 0.56],\n",
       "       [0.22, 0.72, 0.06],\n",
       "       [0.41, 0.49, 0.1 ],\n",
       "       [0.38, 0.26, 0.36],\n",
       "       [0.38, 0.26, 0.36],\n",
       "       [0.48, 0.39, 0.12],\n",
       "       [0.39, 0.33, 0.27],\n",
       "       [0.48, 0.41, 0.12],\n",
       "       [0.08, 0.55, 0.37],\n",
       "       [0.39, 0.33, 0.27],\n",
       "       [0.38, 0.53, 0.09],\n",
       "       [0.14, 0.84, 0.02],\n",
       "       [0.38, 0.53, 0.09],\n",
       "       [0.47, 0.43, 0.1 ],\n",
       "       [0.14, 0.2 , 0.65],\n",
       "       [0.14, 0.23, 0.63],\n",
       "       [0.43, 0.38, 0.19],\n",
       "       [0.19, 0.42, 0.38],\n",
       "       [0.32, 0.27, 0.41],\n",
       "       [0.32, 0.27, 0.41],\n",
       "       [0.41, 0.49, 0.1 ],\n",
       "       [0.14, 0.2 , 0.65],\n",
       "       [0.26, 0.29, 0.46],\n",
       "       [0.15, 0.2 , 0.66],\n",
       "       [0.14, 0.84, 0.02],\n",
       "       [0.28, 0.63, 0.1 ],\n",
       "       [0.16, 0.16, 0.68],\n",
       "       [0.12, 0.13, 0.74],\n",
       "       [0.29, 0.47, 0.24],\n",
       "       [0.32, 0.27, 0.41],\n",
       "       [0.4 , 0.42, 0.18],\n",
       "       [0.33, 0.43, 0.24],\n",
       "       [0.38, 0.26, 0.36],\n",
       "       [0.14, 0.25, 0.61],\n",
       "       [0.16, 0.27, 0.56],\n",
       "       [0.43, 0.15, 0.42],\n",
       "       [0.14, 0.2 , 0.65],\n",
       "       [0.46, 0.38, 0.16],\n",
       "       [0.4 , 0.42, 0.18],\n",
       "       [0.41, 0.49, 0.1 ],\n",
       "       [0.43, 0.15, 0.42],\n",
       "       [0.43, 0.15, 0.42],\n",
       "       [0.33, 0.43, 0.24],\n",
       "       [0.32, 0.27, 0.41],\n",
       "       [0.4 , 0.42, 0.18],\n",
       "       [0.32, 0.25, 0.42],\n",
       "       [0.25, 0.2 , 0.55],\n",
       "       [0.43, 0.15, 0.42],\n",
       "       [0.43, 0.38, 0.19],\n",
       "       [0.15, 0.19, 0.66],\n",
       "       [0.38, 0.26, 0.36],\n",
       "       [0.15, 0.19, 0.66],\n",
       "       [0.4 , 0.42, 0.18],\n",
       "       [0.14, 0.47, 0.39],\n",
       "       [0.12, 0.13, 0.74],\n",
       "       [0.36, 0.33, 0.32],\n",
       "       [0.14, 0.25, 0.61],\n",
       "       [0.14, 0.47, 0.39],\n",
       "       [0.14, 0.25, 0.61],\n",
       "       [0.32, 0.25, 0.42],\n",
       "       [0.28, 0.63, 0.1 ],\n",
       "       [0.22, 0.28, 0.49],\n",
       "       [0.13, 0.23, 0.64],\n",
       "       [0.4 , 0.4 , 0.2 ],\n",
       "       [0.24, 0.18, 0.58],\n",
       "       [0.41, 0.49, 0.1 ],\n",
       "       [0.24, 0.36, 0.4 ],\n",
       "       [0.48, 0.41, 0.12],\n",
       "       [0.11, 0.48, 0.41],\n",
       "       [0.32, 0.25, 0.42],\n",
       "       [0.32, 0.27, 0.41],\n",
       "       [0.22, 0.28, 0.49],\n",
       "       [0.33, 0.43, 0.24],\n",
       "       [0.43, 0.15, 0.42],\n",
       "       [0.48, 0.41, 0.12],\n",
       "       [0.28, 0.2 , 0.52],\n",
       "       [0.42, 0.44, 0.14],\n",
       "       [0.41, 0.49, 0.1 ],\n",
       "       [0.27, 0.23, 0.5 ],\n",
       "       [0.28, 0.63, 0.1 ],\n",
       "       [0.27, 0.16, 0.57],\n",
       "       [0.12, 0.13, 0.74],\n",
       "       [0.22, 0.72, 0.06],\n",
       "       [0.06, 0.49, 0.45],\n",
       "       [0.08, 0.55, 0.37],\n",
       "       [0.16, 0.16, 0.68],\n",
       "       [0.14, 0.2 , 0.65],\n",
       "       [0.27, 0.51, 0.22],\n",
       "       [0.46, 0.38, 0.16],\n",
       "       [0.08, 0.55, 0.37],\n",
       "       [0.33, 0.43, 0.24],\n",
       "       [0.27, 0.23, 0.5 ],\n",
       "       [0.14, 0.84, 0.02],\n",
       "       [0.42, 0.44, 0.14],\n",
       "       [0.49, 0.3 , 0.21],\n",
       "       [0.25, 0.2 , 0.55],\n",
       "       [0.47, 0.43, 0.1 ],\n",
       "       [0.36, 0.33, 0.32],\n",
       "       [0.08, 0.55, 0.37],\n",
       "       [0.29, 0.17, 0.54],\n",
       "       [0.46, 0.38, 0.16],\n",
       "       [0.38, 0.26, 0.36],\n",
       "       [0.49, 0.3 , 0.21],\n",
       "       [0.19, 0.42, 0.38],\n",
       "       [0.41, 0.49, 0.1 ],\n",
       "       [0.49, 0.3 , 0.21],\n",
       "       [0.43, 0.15, 0.42],\n",
       "       [0.27, 0.51, 0.22],\n",
       "       [0.22, 0.72, 0.06],\n",
       "       [0.41, 0.49, 0.1 ],\n",
       "       [0.06, 0.49, 0.45],\n",
       "       [0.38, 0.26, 0.36],\n",
       "       [0.12, 0.41, 0.47],\n",
       "       [0.32, 0.27, 0.41],\n",
       "       [0.4 , 0.42, 0.18],\n",
       "       [0.16, 0.27, 0.56],\n",
       "       [0.14, 0.2 , 0.65],\n",
       "       [0.32, 0.27, 0.41],\n",
       "       [0.38, 0.53, 0.09],\n",
       "       [0.28, 0.63, 0.1 ],\n",
       "       [0.37, 0.52, 0.11],\n",
       "       [0.43, 0.15, 0.42],\n",
       "       [0.37, 0.52, 0.11],\n",
       "       [0.12, 0.35, 0.53],\n",
       "       [0.22, 0.72, 0.06],\n",
       "       [0.22, 0.28, 0.49],\n",
       "       [0.22, 0.28, 0.49],\n",
       "       [0.38, 0.26, 0.36],\n",
       "       [0.25, 0.2 , 0.55],\n",
       "       [0.12, 0.13, 0.76],\n",
       "       [0.22, 0.28, 0.49],\n",
       "       [0.26, 0.29, 0.46],\n",
       "       [0.43, 0.38, 0.19],\n",
       "       [0.43, 0.38, 0.19],\n",
       "       [0.42, 0.44, 0.14],\n",
       "       [0.29, 0.3 , 0.41],\n",
       "       [0.41, 0.49, 0.1 ],\n",
       "       [0.38, 0.53, 0.09],\n",
       "       [0.16, 0.16, 0.68],\n",
       "       [0.47, 0.43, 0.1 ],\n",
       "       [0.22, 0.72, 0.06],\n",
       "       [0.25, 0.2 , 0.55],\n",
       "       [0.29, 0.47, 0.24],\n",
       "       [0.38, 0.26, 0.36],\n",
       "       [0.33, 0.43, 0.24],\n",
       "       [0.12, 0.35, 0.53],\n",
       "       [0.39, 0.33, 0.27],\n",
       "       [0.27, 0.23, 0.5 ],\n",
       "       [0.32, 0.25, 0.42],\n",
       "       [0.27, 0.28, 0.45],\n",
       "       [0.06, 0.49, 0.45],\n",
       "       [0.4 , 0.42, 0.18],\n",
       "       [0.32, 0.26, 0.41],\n",
       "       [0.29, 0.3 , 0.41],\n",
       "       [0.37, 0.52, 0.11],\n",
       "       [0.46, 0.38, 0.16],\n",
       "       [0.14, 0.2 , 0.65],\n",
       "       [0.27, 0.51, 0.22],\n",
       "       [0.06, 0.49, 0.45],\n",
       "       [0.11, 0.48, 0.41],\n",
       "       [0.32, 0.27, 0.41],\n",
       "       [0.48, 0.39, 0.12],\n",
       "       [0.08, 0.55, 0.37],\n",
       "       [0.38, 0.26, 0.36],\n",
       "       [0.32, 0.27, 0.41],\n",
       "       [0.27, 0.16, 0.57],\n",
       "       [0.48, 0.41, 0.12]])"
      ]
     },
     "execution_count": 43,
     "metadata": {},
     "output_type": "execute_result"
    }
   ],
   "source": [
    "y_predLR_prob = LR.predict_proba(X_test)\n",
    "y_predLR_prob"
   ]
  },
  {
   "cell_type": "code",
   "execution_count": 44,
   "id": "9011e431",
   "metadata": {},
   "outputs": [
    {
     "name": "stdout",
     "output_type": "stream",
     "text": [
      "0.710691823899371\n"
     ]
    }
   ],
   "source": [
    "#menghitung akurasi\n",
    "from sklearn import metrics\n",
    "\n",
    "akurasi = metrics.accuracy_score(y_test, y_predLR)\n",
    "print(akurasi)"
   ]
  },
  {
   "cell_type": "code",
   "execution_count": 45,
   "id": "01ddb122",
   "metadata": {},
   "outputs": [
    {
     "name": "stdout",
     "output_type": "stream",
     "text": [
      "Confusion matrix, without normalization\n",
      "[[40 24 16]\n",
      " [28 91 16]\n",
      " [ 5  3 95]]\n"
     ]
    },
    {
     "data": {
      "image/png": "[encoded data removed]",
      "text/plain": [
       "<Figure size 432x288 with 2 Axes>"
      ]
     },
     "metadata": {
      "needs_background": "light"
     },
     "output_type": "display_data"
    }
   ],
   "source": [
    "# Compute confusion matrix train_size=0.8\n",
    "cnf_matrix = confusion_matrix(y_test, y_predLR, labels=[0,1,2])\n",
    "np.set_printoptions(precision=2)\n",
    "\n",
    "\n",
    "# Plot non-normalized confusion matrix\n",
    "plt.figure()\n",
    "plot_confusion_matrix(cnf_matrix, classes=['high','low', 'medium'],normalize= False,  title='Confusion matrix')"
   ]
  },
  {
   "cell_type": "markdown",
   "id": "c1520c7b",
   "metadata": {},
   "source": [
    "Hasilnya didapatkan bahwa model Decision Tree lebih baik daripada model Logistic Regression. "
   ]
  },
  {
   "cell_type": "code",
   "execution_count": 46,
   "id": "ddbdf4e9",
   "metadata": {
    "scrolled": true
   },
   "outputs": [
    {
     "name": "stdout",
     "output_type": "stream",
     "text": [
      "Masukkan nilai pH = 6.1\n",
      "Masukkan nilai Suhu =40\n",
      "Memiliki rasa atau Tidak? Yes=1, No=0 = 1\n",
      "Berbau atau Tidak? Yes=1, No=0 = 0\n",
      "Memiliki kandungan lemak atau Tidak? Yes=1, No=0 = 1\n",
      "Keruh atau Tidak? Yes=1, No=0 = 1\n",
      "Masukkan kode warna susu dalam RGB (0-255)? = 250\n"
     ]
    }
   ],
   "source": [
    "#Prediksi inputan baru\n",
    "pH = float(input(\"Masukkan nilai pH = \"))\n",
    "suhu = int(input(\"Masukkan nilai Suhu =\"))\n",
    "rasa = int(input(\"Memiliki rasa atau Tidak? Yes=1, No=0 = \"))\n",
    "bau = int(input(\"Berbau atau Tidak? Yes=1, No=0 = \"))\n",
    "lemak = int(input(\"Memiliki kandungan lemak atau Tidak? Yes=1, No=0 = \"))\n",
    "kekeruhan = int(input(\"Keruh atau Tidak? Yes=1, No=0 = \"))\n",
    "warna = int(input(\"Masukkan kode warna susu dalam RGB (0-255)? = \"))"
   ]
  },
  {
   "cell_type": "code",
   "execution_count": 47,
   "id": "ca0833a6",
   "metadata": {},
   "outputs": [
    {
     "data": {
      "text/plain": [
       "array([1])"
      ]
     },
     "execution_count": 47,
     "metadata": {},
     "output_type": "execute_result"
    }
   ],
   "source": [
    "databaru = [[pH,suhu,rasa,bau,lemak,kekeruhan,warna]]\n",
    "predBaru = gradeTree.predict(databaru)\n",
    "predBaru"
   ]
  },
  {
   "cell_type": "markdown",
   "id": "2562fa38",
   "metadata": {},
   "source": [
    "Dimana : 0 = Kualitas susu High (tinggi),\n",
    "         1 = Kualitas susu Low (rendah),\n",
    "         2 = Kualitas susu Medium (sedang)"
   ]
  },
  {
   "cell_type": "code",
   "execution_count": 48,
   "id": "c0d32dff",
   "metadata": {},
   "outputs": [],
   "source": [
    "from  io import StringIO\n",
    "import pydotplus\n",
    "import matplotlib.image as mpimg\n",
    "from sklearn import tree\n",
    "%matplotlib inline"
   ]
  },
  {
   "cell_type": "code",
   "execution_count": 49,
   "id": "e2bca9a5",
   "metadata": {},
   "outputs": [
    {
     "data": {
      "text/html": [
       "<div>\n",
       "<style scoped>\n",
       "    .dataframe tbody tr th:only-of-type {\n",
       "        vertical-align: middle;\n",
       "    }\n",
       "\n",
       "    .dataframe tbody tr th {\n",
       "        vertical-align: top;\n",
       "    }\n",
       "\n",
       "    .dataframe thead th {\n",
       "        text-align: right;\n",
       "    }\n",
       "</style>\n",
       "<table border=\"1\" class=\"dataframe\">\n",
       "  <thead>\n",
       "    <tr style=\"text-align: right;\">\n",
       "      <th></th>\n",
       "      <th>pH</th>\n",
       "      <th>Temprature</th>\n",
       "      <th>Taste</th>\n",
       "      <th>Odor</th>\n",
       "      <th>Fat</th>\n",
       "      <th>Turbidity</th>\n",
       "      <th>Colour</th>\n",
       "      <th>Grade</th>\n",
       "    </tr>\n",
       "  </thead>\n",
       "  <tbody>\n",
       "    <tr>\n",
       "      <th>0</th>\n",
       "      <td>6.6</td>\n",
       "      <td>35</td>\n",
       "      <td>1</td>\n",
       "      <td>0</td>\n",
       "      <td>1</td>\n",
       "      <td>0</td>\n",
       "      <td>254</td>\n",
       "      <td>0</td>\n",
       "    </tr>\n",
       "    <tr>\n",
       "      <th>1</th>\n",
       "      <td>6.6</td>\n",
       "      <td>36</td>\n",
       "      <td>0</td>\n",
       "      <td>1</td>\n",
       "      <td>0</td>\n",
       "      <td>1</td>\n",
       "      <td>253</td>\n",
       "      <td>0</td>\n",
       "    </tr>\n",
       "    <tr>\n",
       "      <th>2</th>\n",
       "      <td>8.5</td>\n",
       "      <td>70</td>\n",
       "      <td>1</td>\n",
       "      <td>1</td>\n",
       "      <td>1</td>\n",
       "      <td>1</td>\n",
       "      <td>246</td>\n",
       "      <td>1</td>\n",
       "    </tr>\n",
       "    <tr>\n",
       "      <th>3</th>\n",
       "      <td>9.5</td>\n",
       "      <td>34</td>\n",
       "      <td>1</td>\n",
       "      <td>1</td>\n",
       "      <td>0</td>\n",
       "      <td>1</td>\n",
       "      <td>255</td>\n",
       "      <td>1</td>\n",
       "    </tr>\n",
       "    <tr>\n",
       "      <th>4</th>\n",
       "      <td>6.6</td>\n",
       "      <td>37</td>\n",
       "      <td>0</td>\n",
       "      <td>0</td>\n",
       "      <td>0</td>\n",
       "      <td>0</td>\n",
       "      <td>255</td>\n",
       "      <td>2</td>\n",
       "    </tr>\n",
       "    <tr>\n",
       "      <th>...</th>\n",
       "      <td>...</td>\n",
       "      <td>...</td>\n",
       "      <td>...</td>\n",
       "      <td>...</td>\n",
       "      <td>...</td>\n",
       "      <td>...</td>\n",
       "      <td>...</td>\n",
       "      <td>...</td>\n",
       "    </tr>\n",
       "    <tr>\n",
       "      <th>1054</th>\n",
       "      <td>6.7</td>\n",
       "      <td>45</td>\n",
       "      <td>1</td>\n",
       "      <td>1</td>\n",
       "      <td>0</td>\n",
       "      <td>0</td>\n",
       "      <td>247</td>\n",
       "      <td>2</td>\n",
       "    </tr>\n",
       "    <tr>\n",
       "      <th>1055</th>\n",
       "      <td>6.7</td>\n",
       "      <td>38</td>\n",
       "      <td>1</td>\n",
       "      <td>0</td>\n",
       "      <td>1</td>\n",
       "      <td>0</td>\n",
       "      <td>255</td>\n",
       "      <td>0</td>\n",
       "    </tr>\n",
       "    <tr>\n",
       "      <th>1056</th>\n",
       "      <td>3.0</td>\n",
       "      <td>40</td>\n",
       "      <td>1</td>\n",
       "      <td>1</td>\n",
       "      <td>1</td>\n",
       "      <td>1</td>\n",
       "      <td>255</td>\n",
       "      <td>1</td>\n",
       "    </tr>\n",
       "    <tr>\n",
       "      <th>1057</th>\n",
       "      <td>6.8</td>\n",
       "      <td>43</td>\n",
       "      <td>1</td>\n",
       "      <td>0</td>\n",
       "      <td>1</td>\n",
       "      <td>0</td>\n",
       "      <td>250</td>\n",
       "      <td>0</td>\n",
       "    </tr>\n",
       "    <tr>\n",
       "      <th>1058</th>\n",
       "      <td>8.6</td>\n",
       "      <td>55</td>\n",
       "      <td>0</td>\n",
       "      <td>1</td>\n",
       "      <td>1</td>\n",
       "      <td>1</td>\n",
       "      <td>255</td>\n",
       "      <td>1</td>\n",
       "    </tr>\n",
       "  </tbody>\n",
       "</table>\n",
       "<p>1059 rows × 8 columns</p>\n",
       "</div>"
      ],
      "text/plain": [
       "       pH  Temprature  Taste  Odor  Fat   Turbidity  Colour Grade\n",
       "0     6.6          35      1     0     1          0     254     0\n",
       "1     6.6          36      0     1     0          1     253     0\n",
       "2     8.5          70      1     1     1          1     246     1\n",
       "3     9.5          34      1     1     0          1     255     1\n",
       "4     6.6          37      0     0     0          0     255     2\n",
       "...   ...         ...    ...   ...   ...        ...     ...   ...\n",
       "1054  6.7          45      1     1     0          0     247     2\n",
       "1055  6.7          38      1     0     1          0     255     0\n",
       "1056  3.0          40      1     1     1          1     255     1\n",
       "1057  6.8          43      1     0     1          0     250     0\n",
       "1058  8.6          55      0     1     1          1     255     1\n",
       "\n",
       "[1059 rows x 8 columns]"
      ]
     },
     "execution_count": 49,
     "metadata": {},
     "output_type": "execute_result"
    }
   ],
   "source": [
    "data['Grade'] = data['Grade'].astype(str)\n",
    "data"
   ]
  },
  {
   "cell_type": "code",
   "execution_count": 52,
   "id": "5698247b",
   "metadata": {},
   "outputs": [
    {
     "ename": "TypeError",
     "evalue": "can only concatenate str (not \"numpy.int32\") to str",
     "output_type": "error",
     "traceback": [
      "\u001b[1;31m---------------------------------------------------------------------------\u001b[0m",
      "\u001b[1;31mTypeError\u001b[0m                                 Traceback (most recent call last)",
      "\u001b[1;32m~\\AppData\\Local\\Temp/ipykernel_7796/2446480675.py\u001b[0m in \u001b[0;36m<module>\u001b[1;34m\u001b[0m\n\u001b[0;32m      2\u001b[0m \u001b[0mfilename\u001b[0m \u001b[1;33m=\u001b[0m \u001b[1;34m\"milktree.png\"\u001b[0m\u001b[1;33m\u001b[0m\u001b[1;33m\u001b[0m\u001b[0m\n\u001b[0;32m      3\u001b[0m \u001b[0mfeatureNames\u001b[0m \u001b[1;33m=\u001b[0m \u001b[0mdata\u001b[0m\u001b[1;33m.\u001b[0m\u001b[0mcolumns\u001b[0m\u001b[1;33m[\u001b[0m\u001b[1;36m0\u001b[0m\u001b[1;33m:\u001b[0m\u001b[1;36m7\u001b[0m\u001b[1;33m]\u001b[0m\u001b[1;33m\u001b[0m\u001b[1;33m\u001b[0m\u001b[0m\n\u001b[1;32m----> 4\u001b[1;33m \u001b[0mout\u001b[0m\u001b[1;33m=\u001b[0m\u001b[0mtree\u001b[0m\u001b[1;33m.\u001b[0m\u001b[0mexport_graphviz\u001b[0m\u001b[1;33m(\u001b[0m\u001b[0mgradeTree\u001b[0m\u001b[1;33m,\u001b[0m\u001b[0mfeature_names\u001b[0m\u001b[1;33m=\u001b[0m\u001b[0mfeatureNames\u001b[0m\u001b[1;33m,\u001b[0m \u001b[0mout_file\u001b[0m\u001b[1;33m=\u001b[0m\u001b[0mdot_data\u001b[0m\u001b[1;33m,\u001b[0m \u001b[0mclass_names\u001b[0m\u001b[1;33m=\u001b[0m \u001b[0mnp\u001b[0m\u001b[1;33m.\u001b[0m\u001b[0munique\u001b[0m\u001b[1;33m(\u001b[0m\u001b[0my_train\u001b[0m\u001b[1;33m)\u001b[0m\u001b[1;33m,\u001b[0m \u001b[0mfilled\u001b[0m\u001b[1;33m=\u001b[0m\u001b[1;32mTrue\u001b[0m\u001b[1;33m,\u001b[0m  \u001b[0mspecial_characters\u001b[0m\u001b[1;33m=\u001b[0m\u001b[1;32mTrue\u001b[0m\u001b[1;33m,\u001b[0m\u001b[0mrotate\u001b[0m\u001b[1;33m=\u001b[0m\u001b[1;32mFalse\u001b[0m\u001b[1;33m)\u001b[0m\u001b[1;33m\u001b[0m\u001b[1;33m\u001b[0m\u001b[0m\n\u001b[0m\u001b[0;32m      5\u001b[0m \u001b[0mgraph\u001b[0m \u001b[1;33m=\u001b[0m \u001b[0mpydotplus\u001b[0m\u001b[1;33m.\u001b[0m\u001b[0mgraph_from_dot_data\u001b[0m\u001b[1;33m(\u001b[0m\u001b[0mdot_data\u001b[0m\u001b[1;33m.\u001b[0m\u001b[0mgetvalue\u001b[0m\u001b[1;33m(\u001b[0m\u001b[1;33m)\u001b[0m\u001b[1;33m)\u001b[0m\u001b[1;33m\u001b[0m\u001b[1;33m\u001b[0m\u001b[0m\n\u001b[0;32m      6\u001b[0m \u001b[0mgraph\u001b[0m\u001b[1;33m.\u001b[0m\u001b[0mwrite_png\u001b[0m\u001b[1;33m(\u001b[0m\u001b[0mfilename\u001b[0m\u001b[1;33m)\u001b[0m\u001b[1;33m\u001b[0m\u001b[1;33m\u001b[0m\u001b[0m\n",
      "\u001b[1;32mC:\\ProgramData\\Anaconda3\\lib\\site-packages\\sklearn\\utils\\validation.py\u001b[0m in \u001b[0;36minner_f\u001b[1;34m(*args, **kwargs)\u001b[0m\n\u001b[0;32m     61\u001b[0m             \u001b[0mextra_args\u001b[0m \u001b[1;33m=\u001b[0m \u001b[0mlen\u001b[0m\u001b[1;33m(\u001b[0m\u001b[0margs\u001b[0m\u001b[1;33m)\u001b[0m \u001b[1;33m-\u001b[0m \u001b[0mlen\u001b[0m\u001b[1;33m(\u001b[0m\u001b[0mall_args\u001b[0m\u001b[1;33m)\u001b[0m\u001b[1;33m\u001b[0m\u001b[1;33m\u001b[0m\u001b[0m\n\u001b[0;32m     62\u001b[0m             \u001b[1;32mif\u001b[0m \u001b[0mextra_args\u001b[0m \u001b[1;33m<=\u001b[0m \u001b[1;36m0\u001b[0m\u001b[1;33m:\u001b[0m\u001b[1;33m\u001b[0m\u001b[1;33m\u001b[0m\u001b[0m\n\u001b[1;32m---> 63\u001b[1;33m                 \u001b[1;32mreturn\u001b[0m \u001b[0mf\u001b[0m\u001b[1;33m(\u001b[0m\u001b[1;33m*\u001b[0m\u001b[0margs\u001b[0m\u001b[1;33m,\u001b[0m \u001b[1;33m**\u001b[0m\u001b[0mkwargs\u001b[0m\u001b[1;33m)\u001b[0m\u001b[1;33m\u001b[0m\u001b[1;33m\u001b[0m\u001b[0m\n\u001b[0m\u001b[0;32m     64\u001b[0m \u001b[1;33m\u001b[0m\u001b[0m\n\u001b[0;32m     65\u001b[0m             \u001b[1;31m# extra_args > 0\u001b[0m\u001b[1;33m\u001b[0m\u001b[1;33m\u001b[0m\u001b[0m\n",
      "\u001b[1;32mC:\\ProgramData\\Anaconda3\\lib\\site-packages\\sklearn\\tree\\_export.py\u001b[0m in \u001b[0;36mexport_graphviz\u001b[1;34m(decision_tree, out_file, max_depth, feature_names, class_names, label, filled, leaves_parallel, impurity, node_ids, proportion, rotate, rounded, special_characters, precision)\u001b[0m\n\u001b[0;32m    786\u001b[0m             \u001b[0mrounded\u001b[0m\u001b[1;33m=\u001b[0m\u001b[0mrounded\u001b[0m\u001b[1;33m,\u001b[0m \u001b[0mspecial_characters\u001b[0m\u001b[1;33m=\u001b[0m\u001b[0mspecial_characters\u001b[0m\u001b[1;33m,\u001b[0m\u001b[1;33m\u001b[0m\u001b[1;33m\u001b[0m\u001b[0m\n\u001b[0;32m    787\u001b[0m             precision=precision)\n\u001b[1;32m--> 788\u001b[1;33m         \u001b[0mexporter\u001b[0m\u001b[1;33m.\u001b[0m\u001b[0mexport\u001b[0m\u001b[1;33m(\u001b[0m\u001b[0mdecision_tree\u001b[0m\u001b[1;33m)\u001b[0m\u001b[1;33m\u001b[0m\u001b[1;33m\u001b[0m\u001b[0m\n\u001b[0m\u001b[0;32m    789\u001b[0m \u001b[1;33m\u001b[0m\u001b[0m\n\u001b[0;32m    790\u001b[0m         \u001b[1;32mif\u001b[0m \u001b[0mreturn_string\u001b[0m\u001b[1;33m:\u001b[0m\u001b[1;33m\u001b[0m\u001b[1;33m\u001b[0m\u001b[0m\n",
      "\u001b[1;32mC:\\ProgramData\\Anaconda3\\lib\\site-packages\\sklearn\\tree\\_export.py\u001b[0m in \u001b[0;36mexport\u001b[1;34m(self, decision_tree)\u001b[0m\n\u001b[0;32m    422\u001b[0m             \u001b[0mself\u001b[0m\u001b[1;33m.\u001b[0m\u001b[0mrecurse\u001b[0m\u001b[1;33m(\u001b[0m\u001b[0mdecision_tree\u001b[0m\u001b[1;33m,\u001b[0m \u001b[1;36m0\u001b[0m\u001b[1;33m,\u001b[0m \u001b[0mcriterion\u001b[0m\u001b[1;33m=\u001b[0m\u001b[1;34m\"impurity\"\u001b[0m\u001b[1;33m)\u001b[0m\u001b[1;33m\u001b[0m\u001b[1;33m\u001b[0m\u001b[0m\n\u001b[0;32m    423\u001b[0m         \u001b[1;32melse\u001b[0m\u001b[1;33m:\u001b[0m\u001b[1;33m\u001b[0m\u001b[1;33m\u001b[0m\u001b[0m\n\u001b[1;32m--> 424\u001b[1;33m             self.recurse(decision_tree.tree_, 0,\n\u001b[0m\u001b[0;32m    425\u001b[0m                          criterion=decision_tree.criterion)\n\u001b[0;32m    426\u001b[0m \u001b[1;33m\u001b[0m\u001b[0m\n",
      "\u001b[1;32mC:\\ProgramData\\Anaconda3\\lib\\site-packages\\sklearn\\tree\\_export.py\u001b[0m in \u001b[0;36mrecurse\u001b[1;34m(self, tree, node_id, criterion, parent, depth)\u001b[0m\n\u001b[0;32m    482\u001b[0m \u001b[1;33m\u001b[0m\u001b[0m\n\u001b[0;32m    483\u001b[0m             self.out_file.write(\n\u001b[1;32m--> 484\u001b[1;33m                 '%d [label=%s' % (node_id, self.node_to_str(tree, node_id,\n\u001b[0m\u001b[0;32m    485\u001b[0m                                                             criterion)))\n\u001b[0;32m    486\u001b[0m \u001b[1;33m\u001b[0m\u001b[0m\n",
      "\u001b[1;32mC:\\ProgramData\\Anaconda3\\lib\\site-packages\\sklearn\\tree\\_export.py\u001b[0m in \u001b[0;36mnode_to_str\u001b[1;34m(self, tree, node_id, criterion)\u001b[0m\n\u001b[0;32m    358\u001b[0m                                           \u001b[0mnp\u001b[0m\u001b[1;33m.\u001b[0m\u001b[0margmax\u001b[0m\u001b[1;33m(\u001b[0m\u001b[0mvalue\u001b[0m\u001b[1;33m)\u001b[0m\u001b[1;33m,\u001b[0m\u001b[1;33m\u001b[0m\u001b[1;33m\u001b[0m\u001b[0m\n\u001b[0;32m    359\u001b[0m                                           characters[2])\n\u001b[1;32m--> 360\u001b[1;33m             \u001b[0mnode_string\u001b[0m \u001b[1;33m+=\u001b[0m \u001b[0mclass_name\u001b[0m\u001b[1;33m\u001b[0m\u001b[1;33m\u001b[0m\u001b[0m\n\u001b[0m\u001b[0;32m    361\u001b[0m \u001b[1;33m\u001b[0m\u001b[0m\n\u001b[0;32m    362\u001b[0m         \u001b[1;31m# Clean up any trailing newlines\u001b[0m\u001b[1;33m\u001b[0m\u001b[1;33m\u001b[0m\u001b[0m\n",
      "\u001b[1;31mTypeError\u001b[0m: can only concatenate str (not \"numpy.int32\") to str"
     ]
    }
   ],
   "source": [
    "dot_data = StringIO()\n",
    "filename = \"milktree.png\"\n",
    "featureNames = data.columns[0:7]\n",
    "out=tree.export_graphviz(gradeTree,feature_names=featureNames, out_file=dot_data, class_names= np.unique(y_train), filled=True,  special_characters=True,rotate=False)  \n",
    "graph = pydotplus.graph_from_dot_data(dot_data.getvalue())\n",
    "graph.write_png(filename)\n",
    "img = mpimg.imread(filename)\n",
    "plt.figure(figsize=(100, 200))\n",
    "plt.imshow(img,interpolation='nearest')"
   ]
  },
  {
   "cell_type": "code",
   "execution_count": 51,
   "id": "c6d82ba4",
   "metadata": {},
   "outputs": [
    {
     "data": {
      "image/png": "[encoded data removed]",
      "text/plain": [
       "<Figure size 432x288 with 1 Axes>"
      ]
     },
     "metadata": {
      "needs_background": "light"
     },
     "output_type": "display_data"
    }
   ],
   "source": [
    "from sklearn import tree\n",
    "\n",
    "tree.plot_tree(gradeTree);"
   ]
  },
  {
   "cell_type": "code",
   "execution_count": null,
   "id": "03c80f52",
   "metadata": {},
   "outputs": [],
   "source": []
  }
 ],
 "metadata": {
  "kernelspec": {
   "display_name": "Python 3 (ipykernel)",
   "language": "python",
   "name": "python3"
  },
  "language_info": {
   "codemirror_mode": {
    "name": "ipython",
    "version": 3
   },
   "file_extension": ".py",
   "mimetype": "text/x-python",
   "name": "python",
   "nbconvert_exporter": "python",
   "pygments_lexer": "ipython3",
   "version": "3.9.7"
  }
 },
 "nbformat": 4,
 "nbformat_minor": 5
}
